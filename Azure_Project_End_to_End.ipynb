{
 "cells": [
  {
   "cell_type": "code",
   "execution_count": 0,
   "metadata": {
    "application/vnd.databricks.v1+cell": {
     "cellMetadata": {},
     "inputWidgets": {},
     "nuid": "0c6795bc-9387-44b9-9461-fa621e782d82",
     "showTitle": true,
     "title": "Connect to Azure SQL Database"
    }
   },
   "outputs": [],
   "source": [
    "'''\n",
    "df = spark.read.format(\"jdbc\")\\\n",
    "    .option(\"url\", \"jdbc:sqlserver://{servername:portname};databaseName={databasename};\")\\\n",
    "    .option(\"dbtable\", \"{table_name}\")\\\n",
    "    .option(\"user\", \"dbusername\")\\\n",
    "    .option(\"pasword\", \"*******\")\\\n",
    "    .load()\n",
    "\n",
    "df.show()\n",
    "'''"
   ]
  },
  {
   "cell_type": "code",
   "execution_count": 0,
   "metadata": {
    "application/vnd.databricks.v1+cell": {
     "cellMetadata": {
      "byteLimit": 2048000,
      "rowLimit": 10000
     },
     "inputWidgets": {},
     "nuid": "0f686c48-7421-4d6d-8e99-aa193423b681",
     "showTitle": false,
     "title": ""
    }
   },
   "outputs": [
    {
     "output_type": "stream",
     "name": "stdout",
     "output_type": "stream",
     "text": [
      "+---------------+------------------+----------------+-------------------+------------+------------------+-----------------+-------------------------+-----------+--------------------+-----------------+------------------+\n|Item_Identifier|       Item_Weight|Item_Fat_Content|    Item_Visibility|   Item_Type|          Item_MRP|Outlet_Identifier|Outlet_Establishment_Year|Outlet_Size|Outlet_Location_Type|      Outlet_Type| Item_Outlet_Sales|\n+---------------+------------------+----------------+-------------------+------------+------------------+-----------------+-------------------------+-----------+--------------------+-----------------+------------------+\n|          FDT36|12.300000190734863|         Low Fat|0.11144759505987167|Baking Goods| 33.48740005493164|           OUT049|                     1999|     Medium|                null|Supermarket Type1| 436.6087341308594|\n|          FDT36|12.300000190734863|         Low Fat|0.11190400272607803|Baking Goods| 33.98740005493164|           OUT017|                     2007|     Medium|              Tier 2|Supermarket Type1| 443.1277160644531|\n|          FDT36|12.300000190734863|              LF|0.11172787845134735|Baking Goods| 33.98740005493164|           OUT018|                     2009|     Medium|              Tier 3|Supermarket Type2|  564.598388671875|\n|          FDT36|12.300000190734863|         Low Fat|                0.0|Baking Goods| 34.38740158081055|           OUT019|                     1985|       null|                null|    Grocery Store|1719.3699951171875|\n|          FDP12| 9.800000190734863|         Regular|0.04552285373210907|Baking Goods|35.087398529052734|           OUT017|                     2007|     Medium|              Tier 2|Supermarket Type1| 352.8739929199219|\n|          FDT36|12.300000190734863|         Low Fat| 0.1112745925784111|Baking Goods|35.087398529052734|           OUT046|                     1997|       null|                null|Supermarket Type1| 458.7362060546875|\n|          FDQ36| 7.855000019073486|         Regular|0.16141299903392792|Baking Goods|  35.2848014831543|           OUT013|                     1987|       High|              Tier 3|Supermarket Type1| 299.3350830078125|\n|          FDT36| 7.855000019073486|         Low Fat|0.11073573678731918|Baking Goods| 35.28739929199219|           OUT027|                     1985|     Medium|              Tier 3|Supermarket Type3| 988.0471801757812|\n|          FDQ36| 7.855000019073486|         Regular|0.16187506914138794|Baking Goods| 35.68479919433594|           OUT045|                     2002|       null|              Tier 2|Supermarket Type1| 335.5632019042969|\n|          FDT36|12.300000190734863|         Low Fat|0.11150025576353073|Baking Goods|35.687400817871094|           OUT045|                     2002|       null|              Tier 2|Supermarket Type1| 846.8975830078125|\n+---------------+------------------+----------------+-------------------+------------+------------------+-----------------+-------------------------+-----------+--------------------+-----------------+------------------+\nonly showing top 10 rows\n\n"
     ]
    }
   ],
   "source": [
    "df = spark.read.format(\"jdbc\")\\\n",
    "    .option(\"url\", \"jdbc:sqlserver://<servername>.database.windows.net:1433;databaseName=<dbname>\")\\\n",
    "    .option(\"dbtable\", \"outlet\")\\\n",
    "    .option(\"user\", \"abdullah\")\\\n",
    "    .option(\"password\", \"******\")\\\n",
    "    .load()\n",
    "df.show(10)"
   ]
  },
  {
   "cell_type": "code",
   "execution_count": 0,
   "metadata": {
    "application/vnd.databricks.v1+cell": {
     "cellMetadata": {
      "byteLimit": 2048000,
      "rowLimit": 10000
     },
     "inputWidgets": {},
     "nuid": "1be2b7ae-34cf-451d-b38f-815ae1d010b6",
     "showTitle": true,
     "title": "Display Data with .show or display()"
    }
   },
   "outputs": [
    {
     "output_type": "display_data",
     "data": {
      "text/html": [
       "<style scoped>\n",
       "  .table-result-container {\n",
       "    max-height: 300px;\n",
       "    overflow: auto;\n",
       "  }\n",
       "  table, th, td {\n",
       "    border: 1px solid black;\n",
       "    border-collapse: collapse;\n",
       "  }\n",
       "  th, td {\n",
       "    padding: 5px;\n",
       "  }\n",
       "  th {\n",
       "    text-align: left;\n",
       "  }\n",
       "</style><div class='table-result-container'><table class='table-result'><thead style='background-color: white'><tr><th>Item_Identifier</th><th>Item_Weight</th><th>Item_Fat_Content</th><th>Item_Visibility</th><th>Item_Type</th><th>Item_MRP</th><th>Outlet_Identifier</th><th>Outlet_Establishment_Year</th><th>Outlet_Size</th><th>Outlet_Location_Type</th><th>Outlet_Type</th><th>Item_Outlet_Sales</th></tr></thead><tbody><tr><td>FDT36</td><td>12.300000190734863</td><td>Low Fat</td><td>0.11144759505987167</td><td>Baking Goods</td><td>33.48740005493164</td><td>OUT049</td><td>1999</td><td>Medium</td><td>null</td><td>Supermarket Type1</td><td>436.6087341308594</td></tr><tr><td>FDT36</td><td>12.300000190734863</td><td>Low Fat</td><td>0.11190400272607803</td><td>Baking Goods</td><td>33.98740005493164</td><td>OUT017</td><td>2007</td><td>Medium</td><td>Tier 2</td><td>Supermarket Type1</td><td>443.1277160644531</td></tr><tr><td>FDT36</td><td>12.300000190734863</td><td>LF</td><td>0.11172787845134735</td><td>Baking Goods</td><td>33.98740005493164</td><td>OUT018</td><td>2009</td><td>Medium</td><td>Tier 3</td><td>Supermarket Type2</td><td>564.598388671875</td></tr><tr><td>FDT36</td><td>12.300000190734863</td><td>Low Fat</td><td>0.0</td><td>Baking Goods</td><td>34.38740158081055</td><td>OUT019</td><td>1985</td><td>null</td><td>null</td><td>Grocery Store</td><td>1719.3699951171875</td></tr><tr><td>FDP12</td><td>9.800000190734863</td><td>Regular</td><td>0.04552285373210907</td><td>Baking Goods</td><td>35.087398529052734</td><td>OUT017</td><td>2007</td><td>Medium</td><td>Tier 2</td><td>Supermarket Type1</td><td>352.8739929199219</td></tr></tbody></table></div>"
      ]
     },
     "metadata": {
      "application/vnd.databricks.v1+output": {
       "addedWidgets": {},
       "aggData": [],
       "aggError": "",
       "aggOverflow": false,
       "aggSchema": [],
       "aggSeriesLimitReached": false,
       "aggType": "",
       "arguments": {},
       "columnCustomDisplayInfos": {},
       "data": [
        [
         "FDT36",
         12.300000190734863,
         "Low Fat",
         0.11144759505987167,
         "Baking Goods",
         33.48740005493164,
         "OUT049",
         1999,
         "Medium",
         null,
         "Supermarket Type1",
         436.6087341308594
        ],
        [
         "FDT36",
         12.300000190734863,
         "Low Fat",
         0.11190400272607803,
         "Baking Goods",
         33.98740005493164,
         "OUT017",
         2007,
         "Medium",
         "Tier 2",
         "Supermarket Type1",
         443.1277160644531
        ],
        [
         "FDT36",
         12.300000190734863,
         "LF",
         0.11172787845134735,
         "Baking Goods",
         33.98740005493164,
         "OUT018",
         2009,
         "Medium",
         "Tier 3",
         "Supermarket Type2",
         564.598388671875
        ],
        [
         "FDT36",
         12.300000190734863,
         "Low Fat",
         0.0,
         "Baking Goods",
         34.38740158081055,
         "OUT019",
         1985,
         null,
         null,
         "Grocery Store",
         1719.3699951171875
        ],
        [
         "FDP12",
         9.800000190734863,
         "Regular",
         0.04552285373210907,
         "Baking Goods",
         35.087398529052734,
         "OUT017",
         2007,
         "Medium",
         "Tier 2",
         "Supermarket Type1",
         352.8739929199219
        ]
       ],
       "datasetInfos": [],
       "dbfsResultPath": null,
       "isJsonSchema": true,
       "metadata": {},
       "overflow": false,
       "plotOptions": {
        "customPlotOptions": {},
        "displayType": "table",
        "pivotAggregation": null,
        "pivotColumns": null,
        "xColumns": null,
        "yColumns": null
       },
       "removedWidgets": [],
       "schema": [
        {
         "metadata": "{\"scale\":0}",
         "name": "Item_Identifier",
         "type": "\"string\""
        },
        {
         "metadata": "{\"scale\":0}",
         "name": "Item_Weight",
         "type": "\"double\""
        },
        {
         "metadata": "{\"scale\":0}",
         "name": "Item_Fat_Content",
         "type": "\"string\""
        },
        {
         "metadata": "{\"scale\":0}",
         "name": "Item_Visibility",
         "type": "\"double\""
        },
        {
         "metadata": "{\"scale\":0}",
         "name": "Item_Type",
         "type": "\"string\""
        },
        {
         "metadata": "{\"scale\":0}",
         "name": "Item_MRP",
         "type": "\"double\""
        },
        {
         "metadata": "{\"scale\":0}",
         "name": "Outlet_Identifier",
         "type": "\"string\""
        },
        {
         "metadata": "{\"scale\":0}",
         "name": "Outlet_Establishment_Year",
         "type": "\"short\""
        },
        {
         "metadata": "{\"scale\":0}",
         "name": "Outlet_Size",
         "type": "\"string\""
        },
        {
         "metadata": "{\"scale\":0}",
         "name": "Outlet_Location_Type",
         "type": "\"string\""
        },
        {
         "metadata": "{\"scale\":0}",
         "name": "Outlet_Type",
         "type": "\"string\""
        },
        {
         "metadata": "{\"scale\":0}",
         "name": "Item_Outlet_Sales",
         "type": "\"double\""
        }
       ],
       "type": "table"
      }
     },
     "output_type": "display_data"
    }
   ],
   "source": [
    "display(df.limit(5))\n",
    "#df.show() can also be used to show data"
   ]
  },
  {
   "cell_type": "markdown",
   "metadata": {
    "application/vnd.databricks.v1+cell": {
     "cellMetadata": {},
     "inputWidgets": {},
     "nuid": "280dc1c8-c724-4c75-8893-b36bb2067858",
     "showTitle": false,
     "title": ""
    }
   },
   "source": [
    "Cleaning process"
   ]
  },
  {
   "cell_type": "code",
   "execution_count": 0,
   "metadata": {
    "application/vnd.databricks.v1+cell": {
     "cellMetadata": {
      "byteLimit": 2048000,
      "rowLimit": 10000
     },
     "inputWidgets": {},
     "nuid": "7ca785ef-feeb-41f1-984a-f5ef9c4dc350",
     "showTitle": false,
     "title": ""
    }
   },
   "outputs": [
    {
     "output_type": "display_data",
     "data": {
      "text/html": [
       "<style scoped>\n",
       "  .table-result-container {\n",
       "    max-height: 300px;\n",
       "    overflow: auto;\n",
       "  }\n",
       "  table, th, td {\n",
       "    border: 1px solid black;\n",
       "    border-collapse: collapse;\n",
       "  }\n",
       "  th, td {\n",
       "    padding: 5px;\n",
       "  }\n",
       "  th {\n",
       "    text-align: left;\n",
       "  }\n",
       "</style><div class='table-result-container'><table class='table-result'><thead style='background-color: white'><tr><th>Item_Identifier</th><th>Item_Weight</th><th>Item_Fat_Content</th><th>Item_Visibility</th><th>Item_Type</th><th>Item_MRP</th><th>Outlet_Identifier</th><th>Outlet_Establishment_Year</th><th>Outlet_Size</th><th>Outlet_Location_Type</th><th>Outlet_Type</th><th>Item_Outlet_Sales</th></tr></thead><tbody><tr><td>FDT36</td><td>12.300000190734863</td><td>Low Fat</td><td>0.11144759505987167</td><td>Baking Goods</td><td>33.48740005493164</td><td>OUT049</td><td>1999</td><td>Medium</td><td>null</td><td>Supermarket Type1</td><td>436.6087341308594</td></tr><tr><td>FDT36</td><td>12.300000190734863</td><td>Low Fat</td><td>0.11190400272607803</td><td>Baking Goods</td><td>33.98740005493164</td><td>OUT017</td><td>2007</td><td>Medium</td><td>Tier 2</td><td>Supermarket Type1</td><td>443.1277160644531</td></tr><tr><td>FDT36</td><td>12.300000190734863</td><td>LF</td><td>0.11172787845134735</td><td>Baking Goods</td><td>33.98740005493164</td><td>OUT018</td><td>2009</td><td>Medium</td><td>Tier 3</td><td>Supermarket Type2</td><td>564.598388671875</td></tr><tr><td>FDT36</td><td>12.300000190734863</td><td>Low Fat</td><td>0.0</td><td>Baking Goods</td><td>34.38740158081055</td><td>OUT019</td><td>1985</td><td>Small</td><td>null</td><td>Grocery Store</td><td>1719.3699951171875</td></tr><tr><td>FDP12</td><td>9.800000190734863</td><td>Regular</td><td>0.04552285373210907</td><td>Baking Goods</td><td>35.087398529052734</td><td>OUT017</td><td>2007</td><td>Medium</td><td>Tier 2</td><td>Supermarket Type1</td><td>352.8739929199219</td></tr></tbody></table></div>"
      ]
     },
     "metadata": {
      "application/vnd.databricks.v1+output": {
       "addedWidgets": {},
       "aggData": [],
       "aggError": "",
       "aggOverflow": false,
       "aggSchema": [],
       "aggSeriesLimitReached": false,
       "aggType": "",
       "arguments": {},
       "columnCustomDisplayInfos": {},
       "data": [
        [
         "FDT36",
         12.300000190734863,
         "Low Fat",
         0.11144759505987167,
         "Baking Goods",
         33.48740005493164,
         "OUT049",
         1999,
         "Medium",
         null,
         "Supermarket Type1",
         436.6087341308594
        ],
        [
         "FDT36",
         12.300000190734863,
         "Low Fat",
         0.11190400272607803,
         "Baking Goods",
         33.98740005493164,
         "OUT017",
         2007,
         "Medium",
         "Tier 2",
         "Supermarket Type1",
         443.1277160644531
        ],
        [
         "FDT36",
         12.300000190734863,
         "LF",
         0.11172787845134735,
         "Baking Goods",
         33.98740005493164,
         "OUT018",
         2009,
         "Medium",
         "Tier 3",
         "Supermarket Type2",
         564.598388671875
        ],
        [
         "FDT36",
         12.300000190734863,
         "Low Fat",
         0.0,
         "Baking Goods",
         34.38740158081055,
         "OUT019",
         1985,
         "Small",
         null,
         "Grocery Store",
         1719.3699951171875
        ],
        [
         "FDP12",
         9.800000190734863,
         "Regular",
         0.04552285373210907,
         "Baking Goods",
         35.087398529052734,
         "OUT017",
         2007,
         "Medium",
         "Tier 2",
         "Supermarket Type1",
         352.8739929199219
        ]
       ],
       "datasetInfos": [],
       "dbfsResultPath": null,
       "isJsonSchema": true,
       "metadata": {},
       "overflow": false,
       "plotOptions": {
        "customPlotOptions": {},
        "displayType": "table",
        "pivotAggregation": null,
        "pivotColumns": null,
        "xColumns": null,
        "yColumns": null
       },
       "removedWidgets": [],
       "schema": [
        {
         "metadata": "{\"scale\":0}",
         "name": "Item_Identifier",
         "type": "\"string\""
        },
        {
         "metadata": "{\"scale\":0}",
         "name": "Item_Weight",
         "type": "\"double\""
        },
        {
         "metadata": "{\"scale\":0}",
         "name": "Item_Fat_Content",
         "type": "\"string\""
        },
        {
         "metadata": "{\"scale\":0}",
         "name": "Item_Visibility",
         "type": "\"double\""
        },
        {
         "metadata": "{\"scale\":0}",
         "name": "Item_Type",
         "type": "\"string\""
        },
        {
         "metadata": "{\"scale\":0}",
         "name": "Item_MRP",
         "type": "\"double\""
        },
        {
         "metadata": "{\"scale\":0}",
         "name": "Outlet_Identifier",
         "type": "\"string\""
        },
        {
         "metadata": "{\"scale\":0}",
         "name": "Outlet_Establishment_Year",
         "type": "\"short\""
        },
        {
         "metadata": "{}",
         "name": "Outlet_Size",
         "type": "\"string\""
        },
        {
         "metadata": "{\"scale\":0}",
         "name": "Outlet_Location_Type",
         "type": "\"string\""
        },
        {
         "metadata": "{\"scale\":0}",
         "name": "Outlet_Type",
         "type": "\"string\""
        },
        {
         "metadata": "{\"scale\":0}",
         "name": "Item_Outlet_Sales",
         "type": "\"double\""
        }
       ],
       "type": "table"
      }
     },
     "output_type": "display_data"
    }
   ],
   "source": [
    "#fill all null in 'Outlet_Size' column with 'Small'\n",
    "df = df.na.fill({'Outlet_Size': 'Small'})\n",
    "display(df.limit(5))"
   ]
  },
  {
   "cell_type": "code",
   "execution_count": 0,
   "metadata": {
    "application/vnd.databricks.v1+cell": {
     "cellMetadata": {
      "byteLimit": 2048000,
      "rowLimit": 10000
     },
     "inputWidgets": {},
     "nuid": "33998b44-7390-4215-85a2-516e5df9500f",
     "showTitle": false,
     "title": ""
    }
   },
   "outputs": [
    {
     "output_type": "display_data",
     "data": {
      "text/html": [
       "<style scoped>\n",
       "  .table-result-container {\n",
       "    max-height: 300px;\n",
       "    overflow: auto;\n",
       "  }\n",
       "  table, th, td {\n",
       "    border: 1px solid black;\n",
       "    border-collapse: collapse;\n",
       "  }\n",
       "  th, td {\n",
       "    padding: 5px;\n",
       "  }\n",
       "  th {\n",
       "    text-align: left;\n",
       "  }\n",
       "</style><div class='table-result-container'><table class='table-result'><thead style='background-color: white'><tr><th>Item_Identifier</th><th>Item_Weight</th><th>Item_Fat_Content</th><th>Item_Visibility</th><th>Item_Type</th><th>Item_MRP</th><th>Outlet_Identifier</th><th>Outlet_Establishment_Year</th><th>Outlet_Size</th><th>Outlet_Location_Type</th><th>Outlet_Type</th><th>Item_Outlet_Sales</th></tr></thead><tbody><tr><td>FDT36</td><td>12.300000190734863</td><td>Low Fat</td><td>0.11144759505987167</td><td>Baking Goods</td><td>33.48740005493164</td><td>OUT049</td><td>1999</td><td>Medium</td><td>Tier 1</td><td>Supermarket Type1</td><td>436.6087341308594</td></tr><tr><td>FDT36</td><td>12.300000190734863</td><td>Low Fat</td><td>0.11190400272607803</td><td>Baking Goods</td><td>33.98740005493164</td><td>OUT017</td><td>2007</td><td>Medium</td><td>Tier 2</td><td>Supermarket Type1</td><td>443.1277160644531</td></tr><tr><td>FDT36</td><td>12.300000190734863</td><td>LF</td><td>0.11172787845134735</td><td>Baking Goods</td><td>33.98740005493164</td><td>OUT018</td><td>2009</td><td>Medium</td><td>Tier 3</td><td>Supermarket Type2</td><td>564.598388671875</td></tr><tr><td>FDT36</td><td>12.300000190734863</td><td>Low Fat</td><td>0.0</td><td>Baking Goods</td><td>34.38740158081055</td><td>OUT019</td><td>1985</td><td>Small</td><td>Tier 1</td><td>Grocery Store</td><td>1719.3699951171875</td></tr><tr><td>FDP12</td><td>9.800000190734863</td><td>Regular</td><td>0.04552285373210907</td><td>Baking Goods</td><td>35.087398529052734</td><td>OUT017</td><td>2007</td><td>Medium</td><td>Tier 2</td><td>Supermarket Type1</td><td>352.8739929199219</td></tr></tbody></table></div>"
      ]
     },
     "metadata": {
      "application/vnd.databricks.v1+output": {
       "addedWidgets": {},
       "aggData": [],
       "aggError": "",
       "aggOverflow": false,
       "aggSchema": [],
       "aggSeriesLimitReached": false,
       "aggType": "",
       "arguments": {},
       "columnCustomDisplayInfos": {},
       "data": [
        [
         "FDT36",
         12.300000190734863,
         "Low Fat",
         0.11144759505987167,
         "Baking Goods",
         33.48740005493164,
         "OUT049",
         1999,
         "Medium",
         "Tier 1",
         "Supermarket Type1",
         436.6087341308594
        ],
        [
         "FDT36",
         12.300000190734863,
         "Low Fat",
         0.11190400272607803,
         "Baking Goods",
         33.98740005493164,
         "OUT017",
         2007,
         "Medium",
         "Tier 2",
         "Supermarket Type1",
         443.1277160644531
        ],
        [
         "FDT36",
         12.300000190734863,
         "LF",
         0.11172787845134735,
         "Baking Goods",
         33.98740005493164,
         "OUT018",
         2009,
         "Medium",
         "Tier 3",
         "Supermarket Type2",
         564.598388671875
        ],
        [
         "FDT36",
         12.300000190734863,
         "Low Fat",
         0.0,
         "Baking Goods",
         34.38740158081055,
         "OUT019",
         1985,
         "Small",
         "Tier 1",
         "Grocery Store",
         1719.3699951171875
        ],
        [
         "FDP12",
         9.800000190734863,
         "Regular",
         0.04552285373210907,
         "Baking Goods",
         35.087398529052734,
         "OUT017",
         2007,
         "Medium",
         "Tier 2",
         "Supermarket Type1",
         352.8739929199219
        ]
       ],
       "datasetInfos": [],
       "dbfsResultPath": null,
       "isJsonSchema": true,
       "metadata": {},
       "overflow": false,
       "plotOptions": {
        "customPlotOptions": {},
        "displayType": "table",
        "pivotAggregation": null,
        "pivotColumns": null,
        "xColumns": null,
        "yColumns": null
       },
       "removedWidgets": [],
       "schema": [
        {
         "metadata": "{\"scale\":0}",
         "name": "Item_Identifier",
         "type": "\"string\""
        },
        {
         "metadata": "{\"scale\":0}",
         "name": "Item_Weight",
         "type": "\"double\""
        },
        {
         "metadata": "{\"scale\":0}",
         "name": "Item_Fat_Content",
         "type": "\"string\""
        },
        {
         "metadata": "{\"scale\":0}",
         "name": "Item_Visibility",
         "type": "\"double\""
        },
        {
         "metadata": "{\"scale\":0}",
         "name": "Item_Type",
         "type": "\"string\""
        },
        {
         "metadata": "{\"scale\":0}",
         "name": "Item_MRP",
         "type": "\"double\""
        },
        {
         "metadata": "{\"scale\":0}",
         "name": "Outlet_Identifier",
         "type": "\"string\""
        },
        {
         "metadata": "{\"scale\":0}",
         "name": "Outlet_Establishment_Year",
         "type": "\"short\""
        },
        {
         "metadata": "{}",
         "name": "Outlet_Size",
         "type": "\"string\""
        },
        {
         "metadata": "{}",
         "name": "Outlet_Location_Type",
         "type": "\"string\""
        },
        {
         "metadata": "{\"scale\":0}",
         "name": "Outlet_Type",
         "type": "\"string\""
        },
        {
         "metadata": "{\"scale\":0}",
         "name": "Item_Outlet_Sales",
         "type": "\"double\""
        }
       ],
       "type": "table"
      }
     },
     "output_type": "display_data"
    }
   ],
   "source": [
    "#fill all null in 'Outlet_Location_Type' column with 'Tier 1'\n",
    "df = df.na.fill({'Outlet_Location_Type': 'Tier 1'})\n",
    "display(df.limit(5))"
   ]
  },
  {
   "cell_type": "code",
   "execution_count": 0,
   "metadata": {
    "application/vnd.databricks.v1+cell": {
     "cellMetadata": {
      "byteLimit": 2048000,
      "rowLimit": 10000
     },
     "inputWidgets": {},
     "nuid": "7c3aa553-08df-46be-a29a-86090348846e",
     "showTitle": false,
     "title": ""
    }
   },
   "outputs": [
    {
     "output_type": "display_data",
     "data": {
      "text/html": [
       "<style scoped>\n",
       "  .table-result-container {\n",
       "    max-height: 300px;\n",
       "    overflow: auto;\n",
       "  }\n",
       "  table, th, td {\n",
       "    border: 1px solid black;\n",
       "    border-collapse: collapse;\n",
       "  }\n",
       "  th, td {\n",
       "    padding: 5px;\n",
       "  }\n",
       "  th {\n",
       "    text-align: left;\n",
       "  }\n",
       "</style><div class='table-result-container'><table class='table-result'><thead style='background-color: white'><tr><th>Item_Identifier</th><th>Item_Weight</th><th>Item_Fat_Content</th><th>Item_Visibility</th><th>Item_Type</th><th>Item_MRP</th><th>Outlet_Identifier</th><th>Outlet_Establishment_Year</th><th>Outlet_Size</th><th>Outlet_Location_Type</th><th>Outlet_Type</th><th>Item_Outlet_Sales</th></tr></thead><tbody><tr><td>FDT36</td><td>12.300000190734863</td><td>Low Fat</td><td>0.11144759505987167</td><td>Baking Goods</td><td>33.48740005493164</td><td>OUT049</td><td>1999</td><td>Medium</td><td>Tier 1</td><td>Supermarket Type1</td><td>436.6087341308594</td></tr><tr><td>FDT36</td><td>12.300000190734863</td><td>Low Fat</td><td>0.11190400272607803</td><td>Baking Goods</td><td>33.98740005493164</td><td>OUT017</td><td>2007</td><td>Medium</td><td>Tier 2</td><td>Supermarket Type1</td><td>443.1277160644531</td></tr><tr><td>FDT36</td><td>12.300000190734863</td><td>Low Fat</td><td>0.11172787845134735</td><td>Baking Goods</td><td>33.98740005493164</td><td>OUT018</td><td>2009</td><td>Medium</td><td>Tier 3</td><td>Supermarket Type2</td><td>564.598388671875</td></tr><tr><td>FDT36</td><td>12.300000190734863</td><td>Low Fat</td><td>0.0</td><td>Baking Goods</td><td>34.38740158081055</td><td>OUT019</td><td>1985</td><td>Small</td><td>Tier 1</td><td>Grocery Store</td><td>1719.3699951171875</td></tr><tr><td>FDP12</td><td>9.800000190734863</td><td>Regular</td><td>0.04552285373210907</td><td>Baking Goods</td><td>35.087398529052734</td><td>OUT017</td><td>2007</td><td>Medium</td><td>Tier 2</td><td>Supermarket Type1</td><td>352.8739929199219</td></tr></tbody></table></div>"
      ]
     },
     "metadata": {
      "application/vnd.databricks.v1+output": {
       "addedWidgets": {},
       "aggData": [],
       "aggError": "",
       "aggOverflow": false,
       "aggSchema": [],
       "aggSeriesLimitReached": false,
       "aggType": "",
       "arguments": {},
       "columnCustomDisplayInfos": {},
       "data": [
        [
         "FDT36",
         12.300000190734863,
         "Low Fat",
         0.11144759505987167,
         "Baking Goods",
         33.48740005493164,
         "OUT049",
         1999,
         "Medium",
         "Tier 1",
         "Supermarket Type1",
         436.6087341308594
        ],
        [
         "FDT36",
         12.300000190734863,
         "Low Fat",
         0.11190400272607803,
         "Baking Goods",
         33.98740005493164,
         "OUT017",
         2007,
         "Medium",
         "Tier 2",
         "Supermarket Type1",
         443.1277160644531
        ],
        [
         "FDT36",
         12.300000190734863,
         "Low Fat",
         0.11172787845134735,
         "Baking Goods",
         33.98740005493164,
         "OUT018",
         2009,
         "Medium",
         "Tier 3",
         "Supermarket Type2",
         564.598388671875
        ],
        [
         "FDT36",
         12.300000190734863,
         "Low Fat",
         0.0,
         "Baking Goods",
         34.38740158081055,
         "OUT019",
         1985,
         "Small",
         "Tier 1",
         "Grocery Store",
         1719.3699951171875
        ],
        [
         "FDP12",
         9.800000190734863,
         "Regular",
         0.04552285373210907,
         "Baking Goods",
         35.087398529052734,
         "OUT017",
         2007,
         "Medium",
         "Tier 2",
         "Supermarket Type1",
         352.8739929199219
        ]
       ],
       "datasetInfos": [],
       "dbfsResultPath": null,
       "isJsonSchema": true,
       "metadata": {},
       "overflow": false,
       "plotOptions": {
        "customPlotOptions": {},
        "displayType": "table",
        "pivotAggregation": null,
        "pivotColumns": null,
        "xColumns": null,
        "yColumns": null
       },
       "removedWidgets": [],
       "schema": [
        {
         "metadata": "{\"scale\":0}",
         "name": "Item_Identifier",
         "type": "\"string\""
        },
        {
         "metadata": "{\"scale\":0}",
         "name": "Item_Weight",
         "type": "\"double\""
        },
        {
         "metadata": "{}",
         "name": "Item_Fat_Content",
         "type": "\"string\""
        },
        {
         "metadata": "{\"scale\":0}",
         "name": "Item_Visibility",
         "type": "\"double\""
        },
        {
         "metadata": "{\"scale\":0}",
         "name": "Item_Type",
         "type": "\"string\""
        },
        {
         "metadata": "{\"scale\":0}",
         "name": "Item_MRP",
         "type": "\"double\""
        },
        {
         "metadata": "{\"scale\":0}",
         "name": "Outlet_Identifier",
         "type": "\"string\""
        },
        {
         "metadata": "{\"scale\":0}",
         "name": "Outlet_Establishment_Year",
         "type": "\"short\""
        },
        {
         "metadata": "{}",
         "name": "Outlet_Size",
         "type": "\"string\""
        },
        {
         "metadata": "{}",
         "name": "Outlet_Location_Type",
         "type": "\"string\""
        },
        {
         "metadata": "{\"scale\":0}",
         "name": "Outlet_Type",
         "type": "\"string\""
        },
        {
         "metadata": "{\"scale\":0}",
         "name": "Item_Outlet_Sales",
         "type": "\"double\""
        }
       ],
       "type": "table"
      }
     },
     "output_type": "display_data"
    }
   ],
   "source": [
    "#replace all 'LF' in 'Item_Fat_Content' column with 'Low Fat'\n",
    "df = df.replace('LF', 'Low Fat', 'Item_Fat_Content')\n",
    "display(df.limit(5))"
   ]
  },
  {
   "cell_type": "code",
   "execution_count": 0,
   "metadata": {
    "application/vnd.databricks.v1+cell": {
     "cellMetadata": {},
     "inputWidgets": {},
     "nuid": "6211c46c-a755-456a-9b40-13e260e9397a",
     "showTitle": true,
     "title": "Mount blob storage and save"
    }
   },
   "outputs": [],
   "source": [
    "'''\n",
    "dbutils.fs.mount(\n",
    "            source = \"wasbs://{container}@{storageaccount name}.blob.core.windows.net\".format(blobContainerName, storageAccountName),\n",
    "            mount_point = mountPoint,\n",
    "            extra_configs = {\n",
    "                'fs.azure.account.key.' + storageAccountName + '.blob.core.windows.net': storageAccountAccessKey\\\n",
    "'''"
   ]
  },
  {
   "cell_type": "markdown",
   "metadata": {
    "application/vnd.databricks.v1+cell": {
     "cellMetadata": {},
     "inputWidgets": {},
     "nuid": "0d46e0bf-f888-45ae-85a6-2b369a032c2b",
     "showTitle": false,
     "title": ""
    }
   },
   "source": [
    "Mounting blob storage for saving the data"
   ]
  },
  {
   "cell_type": "code",
   "execution_count": 0,
   "metadata": {
    "application/vnd.databricks.v1+cell": {
     "cellMetadata": {},
     "inputWidgets": {},
     "nuid": "9be6fe17-86e1-4896-bd5c-9c91c99e68d3",
     "showTitle": false,
     "title": ""
    }
   },
   "outputs": [],
   "source": [
    "dbutils.fs.mount(\n",
    "            source = \"wasbs://outlet@sqlstorage202.blob.core.windows.net\",\n",
    "            mount_point = \"/mnt/outlet1\",\n",
    "            extra_configs = {\"fs.azure.account.key.sqlstorage202.blob.core.windows.net\":\"<include your key here>\" })"
   ]
  },
  {
   "cell_type": "code",
   "execution_count": 0,
   "metadata": {
    "application/vnd.databricks.v1+cell": {
     "cellMetadata": {
      "byteLimit": 2048000,
      "rowLimit": 10000
     },
     "inputWidgets": {},
     "nuid": "ba3dfd5b-d616-419d-bd21-c1d8a805140c",
     "showTitle": false,
     "title": ""
    }
   },
   "outputs": [
    {
     "output_type": "stream",
     "name": "stdout",
     "output_type": "stream",
     "text": [
      "Out[14]: []"
     ]
    }
   ],
   "source": [
    "#Folder is still empty\n",
    "    dbutils.fs.ls(\"/mnt/outlet1\")"
   ]
  },
  {
   "cell_type": "code",
   "execution_count": 0,
   "metadata": {
    "application/vnd.databricks.v1+cell": {
     "cellMetadata": {
      "byteLimit": 2048000,
      "rowLimit": 10000
     },
     "inputWidgets": {},
     "nuid": "e2e29994-e210-4fde-851e-68c7e4090f1f",
     "showTitle": false,
     "title": ""
    }
   },
   "outputs": [
    {
     "output_type": "display_data",
     "data": {
      "text/html": [
       "<style scoped>\n",
       "  .table-result-container {\n",
       "    max-height: 300px;\n",
       "    overflow: auto;\n",
       "  }\n",
       "  table, th, td {\n",
       "    border: 1px solid black;\n",
       "    border-collapse: collapse;\n",
       "  }\n",
       "  th, td {\n",
       "    padding: 5px;\n",
       "  }\n",
       "  th {\n",
       "    text-align: left;\n",
       "  }\n",
       "</style><div class='table-result-container'><table class='table-result'><thead style='background-color: white'><tr><th>Item_Identifier</th><th>Item_Weight</th><th>Item_Fat_Content</th><th>Item_Visibility</th><th>Item_Type</th><th>Item_MRP</th><th>Outlet_Identifier</th><th>Outlet_Establishment_Year</th><th>Outlet_Size</th><th>Outlet_Location_Type</th><th>Outlet_Type</th><th>Item_Outlet_Sales</th></tr></thead><tbody><tr><td>FDT36</td><td>12.300000190734863</td><td>Low Fat</td><td>0.11144759505987167</td><td>Baking Goods</td><td>33.48740005493164</td><td>OUT049</td><td>1999</td><td>Medium</td><td>Tier 1</td><td>Supermarket Type1</td><td>436.6087341308594</td></tr><tr><td>FDT36</td><td>12.300000190734863</td><td>Low Fat</td><td>0.11190400272607803</td><td>Baking Goods</td><td>33.98740005493164</td><td>OUT017</td><td>2007</td><td>Medium</td><td>Tier 2</td><td>Supermarket Type1</td><td>443.1277160644531</td></tr><tr><td>FDT36</td><td>12.300000190734863</td><td>Low Fat</td><td>0.11172787845134735</td><td>Baking Goods</td><td>33.98740005493164</td><td>OUT018</td><td>2009</td><td>Medium</td><td>Tier 3</td><td>Supermarket Type2</td><td>564.598388671875</td></tr><tr><td>FDT36</td><td>12.300000190734863</td><td>Low Fat</td><td>0.0</td><td>Baking Goods</td><td>34.38740158081055</td><td>OUT019</td><td>1985</td><td>Small</td><td>Tier 1</td><td>Grocery Store</td><td>1719.3699951171875</td></tr><tr><td>FDP12</td><td>9.800000190734863</td><td>Regular</td><td>0.04552285373210907</td><td>Baking Goods</td><td>35.087398529052734</td><td>OUT017</td><td>2007</td><td>Medium</td><td>Tier 2</td><td>Supermarket Type1</td><td>352.8739929199219</td></tr></tbody></table></div>"
      ]
     },
     "metadata": {
      "application/vnd.databricks.v1+output": {
       "addedWidgets": {},
       "aggData": [],
       "aggError": "",
       "aggOverflow": false,
       "aggSchema": [],
       "aggSeriesLimitReached": false,
       "aggType": "",
       "arguments": {},
       "columnCustomDisplayInfos": {},
       "data": [
        [
         "FDT36",
         12.300000190734863,
         "Low Fat",
         0.11144759505987167,
         "Baking Goods",
         33.48740005493164,
         "OUT049",
         1999,
         "Medium",
         "Tier 1",
         "Supermarket Type1",
         436.6087341308594
        ],
        [
         "FDT36",
         12.300000190734863,
         "Low Fat",
         0.11190400272607803,
         "Baking Goods",
         33.98740005493164,
         "OUT017",
         2007,
         "Medium",
         "Tier 2",
         "Supermarket Type1",
         443.1277160644531
        ],
        [
         "FDT36",
         12.300000190734863,
         "Low Fat",
         0.11172787845134735,
         "Baking Goods",
         33.98740005493164,
         "OUT018",
         2009,
         "Medium",
         "Tier 3",
         "Supermarket Type2",
         564.598388671875
        ],
        [
         "FDT36",
         12.300000190734863,
         "Low Fat",
         0.0,
         "Baking Goods",
         34.38740158081055,
         "OUT019",
         1985,
         "Small",
         "Tier 1",
         "Grocery Store",
         1719.3699951171875
        ],
        [
         "FDP12",
         9.800000190734863,
         "Regular",
         0.04552285373210907,
         "Baking Goods",
         35.087398529052734,
         "OUT017",
         2007,
         "Medium",
         "Tier 2",
         "Supermarket Type1",
         352.8739929199219
        ]
       ],
       "datasetInfos": [],
       "dbfsResultPath": null,
       "isJsonSchema": true,
       "metadata": {},
       "overflow": false,
       "plotOptions": {
        "customPlotOptions": {},
        "displayType": "table",
        "pivotAggregation": null,
        "pivotColumns": null,
        "xColumns": null,
        "yColumns": null
       },
       "removedWidgets": [],
       "schema": [
        {
         "metadata": "{\"scale\":0}",
         "name": "Item_Identifier",
         "type": "\"string\""
        },
        {
         "metadata": "{\"scale\":0}",
         "name": "Item_Weight",
         "type": "\"double\""
        },
        {
         "metadata": "{}",
         "name": "Item_Fat_Content",
         "type": "\"string\""
        },
        {
         "metadata": "{\"scale\":0}",
         "name": "Item_Visibility",
         "type": "\"double\""
        },
        {
         "metadata": "{\"scale\":0}",
         "name": "Item_Type",
         "type": "\"string\""
        },
        {
         "metadata": "{\"scale\":0}",
         "name": "Item_MRP",
         "type": "\"double\""
        },
        {
         "metadata": "{\"scale\":0}",
         "name": "Outlet_Identifier",
         "type": "\"string\""
        },
        {
         "metadata": "{\"scale\":0}",
         "name": "Outlet_Establishment_Year",
         "type": "\"short\""
        },
        {
         "metadata": "{}",
         "name": "Outlet_Size",
         "type": "\"string\""
        },
        {
         "metadata": "{}",
         "name": "Outlet_Location_Type",
         "type": "\"string\""
        },
        {
         "metadata": "{\"scale\":0}",
         "name": "Outlet_Type",
         "type": "\"string\""
        },
        {
         "metadata": "{\"scale\":0}",
         "name": "Item_Outlet_Sales",
         "type": "\"double\""
        }
       ],
       "type": "table"
      }
     },
     "output_type": "display_data"
    }
   ],
   "source": [
    "\n",
    "display(df.limit(5))"
   ]
  },
  {
   "cell_type": "code",
   "execution_count": 0,
   "metadata": {
    "application/vnd.databricks.v1+cell": {
     "cellMetadata": {
      "byteLimit": 2048000,
      "rowLimit": 10000
     },
     "inputWidgets": {},
     "nuid": "5f02d3dc-ac54-47c4-bc08-4ed99de22716",
     "showTitle": false,
     "title": ""
    }
   },
   "outputs": [],
   "source": [
    "#write dataframe (df) into the mounted storage account in azure blobstorage\n",
    " df.write.options(header= 'True').csv(\"/mnt/outlet1/outlet2/\")"
   ]
  },
  {
   "cell_type": "code",
   "execution_count": 0,
   "metadata": {
    "application/vnd.databricks.v1+cell": {
     "cellMetadata": {},
     "inputWidgets": {},
     "nuid": "75ac8ff7-6110-4df5-bdff-3b7fa76d43bf",
     "showTitle": false,
     "title": ""
    }
   },
   "outputs": [],
   "source": []
  }
 ],
 "metadata": {
  "application/vnd.databricks.v1+notebook": {
   "dashboards": [],
   "environmentMetadata": null,
   "language": "python",
   "notebookMetadata": {
    "pythonIndentUnit": 4
   },
   "notebookName": "Azure_Project_End_to_End",
   "widgets": {}
  }
 },
 "nbformat": 4,
 "nbformat_minor": 0
}
